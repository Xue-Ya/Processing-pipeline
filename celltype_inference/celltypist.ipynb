{
 "cells": [
  {
   "cell_type": "code",
   "execution_count": 3,
   "metadata": {},
   "outputs": [
    {
     "ename": "AttributeError",
     "evalue": "module 'celltypist.samples' has no attribute 'get_sample_h5ad'",
     "output_type": "error",
     "traceback": [
      "\u001b[0;31m---------------------------------------------------------------------------\u001b[0m",
      "\u001b[0;31mAttributeError\u001b[0m                            Traceback (most recent call last)",
      "Cell \u001b[0;32mIn[3], line 2\u001b[0m\n\u001b[1;32m      1\u001b[0m \u001b[39mimport\u001b[39;00m \u001b[39mcelltypist\u001b[39;00m\n\u001b[0;32m----> 2\u001b[0m input_file \u001b[39m=\u001b[39m celltypist\u001b[39m.\u001b[39;49msamples\u001b[39m.\u001b[39;49mget_sample_h5ad()\n",
      "\u001b[0;31mAttributeError\u001b[0m: module 'celltypist.samples' has no attribute 'get_sample_h5ad'"
     ]
    }
   ],
   "source": [
    "import celltypist\n",
    "input_file = \"\"\n"
   ]
  },
  {
   "cell_type": "code",
   "execution_count": 2,
   "metadata": {},
   "outputs": [
    {
     "data": {
      "text/plain": [
       "'/home/xuezhengyang/.conda/envs/FYP/lib/python3.8/site-packages/celltypist/data/samples/sample_cell_by_gene.csv'"
      ]
     },
     "execution_count": 2,
     "metadata": {},
     "output_type": "execute_result"
    }
   ],
   "source": [
    "input_file"
   ]
  },
  {
   "cell_type": "code",
   "execution_count": null,
   "metadata": {},
   "outputs": [],
   "source": [
    "#Run cell typing followed by majority voting.\n",
    "predictions = celltypist.annotate(input_file, majority_voting = True)\n",
    "\n",
    "#Examine the prediction results.\n",
    "predictions.predicted_labels"
   ]
  }
 ],
 "metadata": {
  "kernelspec": {
   "display_name": "FYP",
   "language": "python",
   "name": "python3"
  },
  "language_info": {
   "codemirror_mode": {
    "name": "ipython",
    "version": 3
   },
   "file_extension": ".py",
   "mimetype": "text/x-python",
   "name": "python",
   "nbconvert_exporter": "python",
   "pygments_lexer": "ipython3",
   "version": "3.8.15"
  },
  "orig_nbformat": 4
 },
 "nbformat": 4,
 "nbformat_minor": 2
}
