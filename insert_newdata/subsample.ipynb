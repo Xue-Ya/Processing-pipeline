{
 "cells": [
  {
   "cell_type": "code",
   "execution_count": 1,
   "metadata": {},
   "outputs": [],
   "source": [
    "import sys\n",
    "import os\n",
    "import seaborn as sns\n",
    "import matplotlib.pyplot as plt\n",
    "import matplotlib as mpl\n",
    "from matplotlib import rcParams\n",
    "import pandas as pd\n",
    "import scanpy as sc\n",
    "import numpy as np\n",
    "from scipy.spatial.distance import jensenshannon\n",
    "from scipy.stats import pearsonr,ttest_ind,mannwhitneyu\n",
    "from sklearn.metrics import mean_squared_error\n",
    "# import DeconvolutionSpot\n",
    "rcParams['pdf.fonttype'] = 42\n",
    "plt.style.use('default')\n",
    "import anndata as ad\n"
   ]
  },
  {
   "cell_type": "code",
   "execution_count": 2,
   "metadata": {},
   "outputs": [],
   "source": [
    "adata = sc.read('/home/xuezhengyang/data6/02-deconv_1/Script/Data/SC/res_filtered.h5ad')\n",
    "# adata = sc.read('/home/xuezhengyang/data6/02-deconv_1/Script/Data/SC/res_cancer.h5ad')"
   ]
  },
  {
   "cell_type": "code",
   "execution_count": 3,
   "metadata": {},
   "outputs": [
    {
     "data": {
      "text/plain": [
       "D372_Biop_Int2_CTGTTTAAGTCTTGCA-1-34                     Suprabasal\n",
       "P2_8_TGCCCATTCGGATGGA                          Alveolar macrophages\n",
       "D353_Brus_Dis1_GCGCGATGTCATGCCG-1-19      Multiciliated (non-nasal)\n",
       "D354_Brus_Dis1_GGGCACTGTCCTAGCG-1-22      Multiciliated (non-nasal)\n",
       "D367_Biop_Pro1_TGTGTTTAGTTCCACA-1-28                  Basal resting\n",
       "                                                    ...            \n",
       "TTTGGTTGTAATGCGG-1-WSSS_A_LNG8757929-1                   SMG mucous\n",
       "TTTGGTTGTGCCCTTT-1-WSSS_A_LNG8757929-1                   SMG mucous\n",
       "TTTGGTTTCAAGAGTA-1-WSSS_A_LNG8757929-1                   SMG mucous\n",
       "TTTGTTGAGCGAGTCA-1-WSSS_A_LNG8757929-1                   SMG mucous\n",
       "TTTGTTGTCTTCTGGC-1-WSSS_A_LNG8757929-1                   SMG mucous\n",
       "Name: cell_type, Length: 951423, dtype: category\n",
       "Categories (58, object): ['Basal resting', 'Suprabasal', 'Deuterosomal', 'Multiciliated (nasal)', ..., 'Interstitial Mφ perivascular', 'Classical monocytes', 'Non-classical monocytes', 'Mast cells']"
      ]
     },
     "execution_count": 3,
     "metadata": {},
     "output_type": "execute_result"
    }
   ],
   "source": [
    "adata.obs['cell_type']"
   ]
  },
  {
   "cell_type": "code",
   "execution_count": 4,
   "metadata": {},
   "outputs": [],
   "source": [
    "# target_cells = 3000\n",
    "target_cells = 500\n",
    "\n",
    "adatas = [adata[adata.obs['cell_type']==(clust)] for clust in adata.obs['cell_type'].cat.categories]\n",
    "for dat in adatas:\n",
    "    if dat.n_obs > target_cells:\n",
    "        sc.pp.subsample(dat, n_obs=target_cells)\n",
    "        # print(dat)"
   ]
  },
  {
   "cell_type": "code",
   "execution_count": 5,
   "metadata": {},
   "outputs": [
    {
     "name": "stderr",
     "output_type": "stream",
     "text": [
      "/home/xuezhengyang/.conda/envs/FYP/lib/python3.8/site-packages/anndata/_core/anndata.py:1785: FutureWarning: X.dtype being converted to np.float32 from float64. In the next version of anndata (0.9) conversion will not be automatic. Pass dtype explicitly to avoid this warning. Pass `AnnData(X, dtype=X.dtype, ...)` to get the future behavour.\n",
      "  [AnnData(sparse.csr_matrix(a.shape), obs=a.obs) for a in all_adatas],\n"
     ]
    }
   ],
   "source": [
    "data = adatas[0].concatenate(*adatas[1:])\n",
    "sc.pp.filter_genes(data,min_cells=3)\n",
    "# dge_rep = None\n",
    "# sc.pp.log1p(data)\n",
    "# sc.pp.highly_variable_genes(data)\n",
    "# s_var_gene = data.var['highly_variable']\n",
    "# data = data[:, data.var.highly_variable]"
   ]
  },
  {
   "cell_type": "code",
   "execution_count": 6,
   "metadata": {},
   "outputs": [
    {
     "data": {
      "text/plain": [
       "AnnData object with n_obs × n_vars = 23352 × 16664\n",
       "    obs: 'sample', 'study', 'donor_id', 'smoking_status', 'condition', 'fresh_or_frozen', 'age', 'n_genes', 'ann_finest_level', 'cell_type', 'disease', 'sex', 'tissue', 'self_reported_ethnicity', 'development_stage', 'batch'\n",
       "    var: 'n_cells'\n",
       "    obsm: 'X_pca', 'X_umap'"
      ]
     },
     "execution_count": 6,
     "metadata": {},
     "output_type": "execute_result"
    }
   ],
   "source": [
    "data"
   ]
  },
  {
   "cell_type": "code",
   "execution_count": 48,
   "metadata": {},
   "outputs": [],
   "source": [
    "data.write_h5ad('/home/xuezhengyang/data6/02-deconv_1/Script/Data/SC/res_subsample.h5ad')\n",
    "# data.write_h5ad('/home/xuezhengyang/data6/02-deconv_1/Script/Data/SC/res_healthy_sub.h5ad')\n",
    "# data.write_h5ad('/home/xuezhengyang/data6/02-deconv_1/Script/Data/SC/res_cancer_sub.h5ad')"
   ]
  }
 ],
 "metadata": {
  "kernelspec": {
   "display_name": "FYP",
   "language": "python",
   "name": "python3"
  },
  "language_info": {
   "codemirror_mode": {
    "name": "ipython",
    "version": 3
   },
   "file_extension": ".py",
   "mimetype": "text/x-python",
   "name": "python",
   "nbconvert_exporter": "python",
   "pygments_lexer": "ipython3",
   "version": "3.8.15"
  },
  "orig_nbformat": 4
 },
 "nbformat": 4,
 "nbformat_minor": 2
}
